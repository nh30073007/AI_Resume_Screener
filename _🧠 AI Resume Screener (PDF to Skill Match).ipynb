{
 "cells": [
  {
   "cell_type": "code",
   "execution_count": 5,
   "id": "658a3772",
   "metadata": {},
   "outputs": [
    {
     "name": "stdout",
     "output_type": "stream",
     "text": [
      "Requirement already satisfied: PyMuPDF in c:\\users\\nh013\\anaconda3\\lib\\site-packages (1.26.0)\n"
     ]
    },
    {
     "name": "stderr",
     "output_type": "stream",
     "text": [
      "\n",
      "[notice] A new release of pip is available: 23.3.1 -> 25.1.1\n",
      "[notice] To update, run: python.exe -m pip install --upgrade pip\n"
     ]
    }
   ],
   "source": [
    "!pip install PyMuPDF\n",
    "import fitz  # For PDF\n",
    "\n"
   ]
  },
  {
   "cell_type": "code",
   "execution_count": null,
   "id": "4d70876c",
   "metadata": {},
   "outputs": [],
   "source": []
  },
  {
   "cell_type": "code",
   "execution_count": 8,
   "id": "466fb81b",
   "metadata": {},
   "outputs": [
    {
     "name": "stdout",
     "output_type": "stream",
     "text": [
      "a.h.m. nazmul hasan\n",
      "ai/ml engineer | computer science graduate\n",
      "location: bangladesh | email: nazmul3007@diu.edu.bd\n",
      "github: github.com/nh30073007 | kaggle: kaggle.com/ahmnazmul\n",
      "professional summary\n",
      "computer engineer with a strong background in artificial intelligence and machine learning. specialized in\n",
      "nlp, computer vision, and predictive modeling with 100+ real-world projects. proficient in python, deep\n",
      "learning frameworks, and problem-solving across remote teams.\n",
      "technical skills\n",
      "- languages: python, sql\n",
      "- libraries: pandas, numpy, scikit-learn, tensorflow, keras, opencv\n",
      "- tools: git, jupyter, kaggle, streamlit, flask (basic)\n",
      "- focus: deep learning, nlp, computer vision, recommendation systems\n",
      "top projects\n",
      "- mental health faq chatbot\n",
      "nlp chatbot answering mental health questions using tf-idf and decision tree classifier. github:\n",
      "github.com/nh30073007/mental_health_faq_for-_chatboot\n",
      "- ai vs real image classifier\n",
      "cnn \n",
      "model \n",
      "classifying \n",
      "ai-generated \n",
      "and \n",
      "real \n",
      "human \n",
      "faces \n",
      "with \n",
      "hig\n"
     ]
    }
   ],
   "source": [
    "def extract_text_from_pdf(pdf_path):\n",
    "    doc = fitz.open(pdf_path)\n",
    "    text = \"\"\n",
    "    for page in doc:\n",
    "        text += page.get_text()\n",
    "    return text.lower()\n",
    "\n",
    "resume_text = extract_text_from_pdf(\"C:/Users/nh013/OneDrive/Desktop/update resume/Nazmul_Hasan_Modern_CV.pdf\")\n",
    "\n",
    "print(resume_text[:1000])  # PREVIEW FIRST 1000 CHARACTHERS \n"
   ]
  },
  {
   "cell_type": "code",
   "execution_count": null,
   "id": "9088bba0",
   "metadata": {},
   "outputs": [],
   "source": []
  },
  {
   "cell_type": "code",
   "execution_count": 9,
   "id": "56d4d4bd",
   "metadata": {},
   "outputs": [
    {
     "name": "stdout",
     "output_type": "stream",
     "text": [
      "✅ Matched Skills: {'deep learning', 'sql', 'git', 'tensorflow', 'machine learning', 'opencv', 'python', 'keras', 'pandas', 'numpy', 'streamlit', 'nlp'}\n",
      "❌ Missing Skills: set()\n",
      "📊 Resume Score: 100 %\n"
     ]
    }
   ],
   "source": [
    "\n",
    "SKILL_SET = {\n",
    "    'python', 'sql', 'machine learning', 'deep learning', 'tensorflow',\n",
    "    'keras', 'pandas', 'numpy', 'opencv', 'nlp', 'git', 'streamlit'\n",
    "}\n",
    "\n",
    "def match_skills(resume_text):\n",
    "    found = {skill for skill in SKILL_SET if skill in resume_text}\n",
    "    missing = SKILL_SET - found\n",
    "    score = int((len(found) / len(SKILL_SET)) * 100)\n",
    "    return found, missing, score\n",
    "\n",
    "\n",
    "found, missing, score = match_skills(resume_text)\n",
    "\n",
    "print(\"✅ Matched Skills:\", found)\n",
    "print(\"❌ Missing Skills:\", missing)\n",
    "print(\"📊 Resume Score:\", score, \"%\")\n"
   ]
  },
  {
   "cell_type": "code",
   "execution_count": null,
   "id": "6bb6a04d",
   "metadata": {},
   "outputs": [],
   "source": []
  }
 ],
 "metadata": {
  "kernelspec": {
   "display_name": "Python 3 (ipykernel)",
   "language": "python",
   "name": "python3"
  },
  "language_info": {
   "codemirror_mode": {
    "name": "ipython",
    "version": 3
   },
   "file_extension": ".py",
   "mimetype": "text/x-python",
   "name": "python",
   "nbconvert_exporter": "python",
   "pygments_lexer": "ipython3",
   "version": "3.10.9"
  }
 },
 "nbformat": 4,
 "nbformat_minor": 5
}
